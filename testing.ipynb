{
 "cells": [
  {
   "cell_type": "code",
   "execution_count": 10,
   "metadata": {},
   "outputs": [],
   "source": [
    "import numpy as np"
   ]
  },
  {
   "cell_type": "code",
   "execution_count": 16,
   "metadata": {},
   "outputs": [
    {
     "data": {
      "text/plain": [
       "array([[ 3, 12],\n",
       "       [27, 48]])"
      ]
     },
     "execution_count": 16,
     "metadata": {},
     "output_type": "execute_result"
    }
   ],
   "source": [
    "x = [[1,2],[3,4]]\n",
    "z = x\n",
    "y = np.square(x)\n",
    "z = y\n",
    "y = 2*y + z\n",
    "y\n"
   ]
  },
  {
   "cell_type": "code",
   "execution_count": 27,
   "metadata": {},
   "outputs": [],
   "source": [
    "import numpy as np\n",
    "import cv2  # Still used for image I/O and adding noise\n",
    "import matplotlib.pyplot as plt\n",
    "import time\n",
    "\n",
    "u = [[1,2],[3,4]]\n",
    "# Fourier Transformation Utility Functions using NumPy\n",
    "def fft2(u):\n",
    "##    return np.fft.fftshift(np.fft.fft2(u))\n",
    "    M,N = u.shape\n",
    "    return np.fft.fft2(u)\n",
    "\n",
    "def ifft2(u_hat):\n",
    "##    return np.fft.ifft2(np.fft.ifftshift(u_hat)).real\n",
    "    #M,N = u_hat.shape\n",
    "    return  np.fft.ifft2(u_hat).real\n",
    "    #return np.ifft2(u_hat).real\n",
    "\n",
    "# Backward and Central Fractional Derivatives\n",
    "# def back_Dx(u, alpha):\n",
    "#     u_hat = fft2(u)\n",
    "#     M, N = u.shape\n",
    "#     w1_grid = np.fft.fftshift(np.fft.fftfreq(M) * M)\n",
    "#     complex_term = 1 - np.exp((-1j * 2 * np.pi * w1_grid[:, None]) / M)\n",
    "#     K = np.power(complex_term, alpha)\n",
    "#     dx_hat = u_hat * K\n",
    "#     dx = ifft2(dx_hat)\n",
    "#     return dx\n",
    "\n",
    "# def back_Dy(u, alpha):\n",
    "#     u_hat = fft2(u)\n",
    "#     M, N = u.shape\n",
    "#     w2_grid = np.fft.fftshift(np.fft.fftfreq(N) * N)\n",
    "#     complex_term = 1 - np.exp((-1j * 2 * np.pi * w2_grid) / N)\n",
    "#     K = np.power(complex_term, alpha)\n",
    "#     dy_hat = u_hat * K\n",
    "#     dy = ifft2(dy_hat)\n",
    "#     return dy\n",
    "\n",
    "def _Dx(u, alpha):\n",
    "    u_hat = fft2(u)\n",
    "    #M, N = u.shape\n",
    "    M,N = 2\n",
    "    w1_grid = np.fft.fftshift(np.fft.fftfreq(M) * M)\n",
    "    complex_term = np.exp((1j * np.pi * w1_grid[:, None]) / M) - np.exp((-1j * np.pi * w1_grid[:, None]) / M)\n",
    "    K = np.power(complex_term, alpha)\n",
    "    dx_hat = u_hat * K\n",
    "    dx = ifft2(dx_hat)\n",
    "    return dx\n",
    "\n",
    "def Dx(u, alpha):\n",
    "    u_hat = fft2(u)\n",
    "    # M, N = u.shape\n",
    "    M,N = 2\n",
    "    array_x, array_y = np.mgrid[0:M,0:N]\n",
    "    x = np.power(1 - np.exp(-1j*2*np.pi * array_x/M), alpha)\n",
    "    ##K = np.power(complex_term, alpha)\n",
    "    dx_hat = u_hat * x\n",
    "    dx = ifft2(dx_hat)\n",
    "    return dx\n",
    "\n",
    "def _Dy(u, alpha):\n",
    "    u_hat = fft2(u)\n",
    "    M, N = u.shape\n",
    "    w2_grid = np.fft.fftshift(np.fft.fftfreq(N) * N)\n",
    "    complex_term = np.exp((1j * np.pi * w2_grid) / N) - np.exp((-1j * np.pi * w2_grid) / N)\n",
    "    K = np.power(complex_term, alpha)\n",
    "    dy_hat = u_hat * K\n",
    "    dy = ifft2(dy_hat)\n",
    "    return dy\n",
    "\n",
    "def Dy(u, alpha):\n",
    "    u_hat = fft2(u)\n",
    "    M, N = u.shape\n",
    "    array_x, array_y = np.mgrid[0:M,0:N]\n",
    "\n",
    "    y = np.power(1 - np.exp(-1j*2*np.pi * array_y/N), alpha)\n",
    "    ##K = np.power(complex_term, alpha)\n",
    "    dy_hat = u_hat * y\n",
    "    dy = ifft2(dy_hat)\n",
    "    return dy\n",
    "\n",
    "\n",
    "# Diffusion Coefficient Computation\n",
    "def C(u, alpha, beta):\n",
    "    D = np.sqrt(np.square(Dx(u, alpha)) + np.square(Dy(u, alpha)))\n",
    "    mu_nn_numerator = np.square(Dx(u, beta)) * Dx(Dx(u, beta), beta) + 2 * Dx(u, beta) * Dy(u, beta) * Dx(Dy(u, beta), beta) + np.square(Dy(u, beta)) * Dy(Dy(u, beta), beta)\n",
    "    mu_nn_denominator = np.square(Dx(u, beta)) + np.square(Dy(u, beta)) + 1000000000\n",
    "    mu_nn = mu_nn_numerator / mu_nn_denominator\n",
    "    mu_ee_numerator = np.square(Dx(u, beta)) * Dy(Dy(u, beta), beta) - 2 * Dx(u, beta) * Dy(u, beta) * Dx(Dy(u, beta), beta) + np.square(Dy(u, beta)) * Dx(Dx(u, beta), beta)\n",
    "    mu_ee_denominator = np.square(Dx(u, beta)) + np.square(Dy(u, beta)) + 1000000000\n",
    "    mu_ee = mu_ee_numerator / mu_ee_denominator\n",
    "    fDC = np.abs(np.abs(mu_nn) - np.abs(mu_ee))\n",
    "    c = 1 / (1 + D +fDC)\n",
    "    return c\n",
    "\n",
    "# Compute Kx and Ky using NumPy\n",
    "# def make_K(M, N, alpha):\n",
    "#     w1_grid = np.fft.fftshift(np.fft.fftfreq(M) * M)\n",
    "#     w2_grid = np.fft.fftshift(np.fft.fftfreq(N) * N)\n",
    "#     complex_term_x = np.exp((1j * np.pi * w1_grid[:, None]) / M) - np.exp((-1j * np.pi * w1_grid[:, None]) / M)\n",
    "#     complex_term_y = np.exp((1j * np.pi * w2_grid) / N) - np.exp((-1j * np.pi * w2_grid) / N)\n",
    "#     Kx = np.power(complex_term_x, alpha)\n",
    "#     Ky = np.power(complex_term_y, alpha)\n",
    "#     return Kx, Ky\n",
    "\n",
    "def make_K(M, N, alpha):\n",
    "\n",
    "    diagonal_matrix = np.diag(np.arange(M))\n",
    "    #w1_grid = np.fft.fftshift(np.fft.fftfreq(M) * M)\n",
    "    #w2_grid = np.fft.fftshift(np.fft.fftfreq(N) * N)\n",
    "    #complex_term_x = np.exp((1j * np.pi * w1_grid[:, None]) / M) - np.exp((-1j * np.pi * w1_grid[:, None]) / M)\n",
    "    #complex_term_y = np.exp((1j * np.pi * w2_grid) / N) - np.exp((-1j * np.pi * w2_grid) / N)\n",
    "    Kx = np.power(1 - np.exp(-1j*2*np.pi * diagonal_matrix/M), alpha)*np.power(np.exp(1j*np.pi * diagonal_matrix/M), alpha)\n",
    "    Ky = np.power(1 - np.exp(-1j*2*np.pi * diagonal_matrix/M), alpha)*np.power(np.exp(1j*np.pi * diagonal_matrix/M), alpha)\n",
    "    return Kx, Ky"
   ]
  },
  {
   "cell_type": "code",
   "execution_count": 29,
   "metadata": {},
   "outputs": [
    {
     "data": {
      "text/plain": [
       "array([[1.        , 1.        , 1.        , 1.        , 1.        ,\n",
       "        1.        , 1.        , 1.        , 1.        , 1.        ],\n",
       "       [0.5       , 0.5       , 0.5       , 0.5       , 0.5       ,\n",
       "        0.5       , 0.5       , 0.5       , 0.5       , 0.5       ],\n",
       "       [0.33333333, 0.33333333, 0.33333333, 0.33333333, 0.33333333,\n",
       "        0.33333333, 0.33333333, 0.33333333, 0.33333333, 0.33333333],\n",
       "       [0.25      , 0.25      , 0.25      , 0.25      , 0.25      ,\n",
       "        0.25      , 0.25      , 0.25      , 0.25      , 0.25      ],\n",
       "       [0.2       , 0.2       , 0.2       , 0.2       , 0.2       ,\n",
       "        0.2       , 0.2       , 0.2       , 0.2       , 0.2       ],\n",
       "       [0.16666667, 0.16666667, 0.16666667, 0.16666667, 0.16666667,\n",
       "        0.16666667, 0.16666667, 0.16666667, 0.16666667, 0.16666667],\n",
       "       [0.14285714, 0.14285714, 0.14285714, 0.14285714, 0.14285714,\n",
       "        0.14285714, 0.14285714, 0.14285714, 0.14285714, 0.14285714],\n",
       "       [0.125     , 0.125     , 0.125     , 0.125     , 0.125     ,\n",
       "        0.125     , 0.125     , 0.125     , 0.125     , 0.125     ],\n",
       "       [0.11111111, 0.11111111, 0.11111111, 0.11111111, 0.11111111,\n",
       "        0.11111111, 0.11111111, 0.11111111, 0.11111111, 0.11111111],\n",
       "       [0.1       , 0.1       , 0.1       , 0.1       , 0.1       ,\n",
       "        0.1       , 0.1       , 0.1       , 0.1       , 0.1       ]])"
      ]
     },
     "execution_count": 29,
     "metadata": {},
     "output_type": "execute_result"
    }
   ],
   "source": [
    "array_x, array_y = np.mgrid[0:10,0:10]\n",
    "array_x\n",
    "1/(1+array_x)"
   ]
  },
  {
   "cell_type": "code",
   "execution_count": 31,
   "metadata": {},
   "outputs": [
    {
     "data": {
      "text/plain": [
       "array([[1.+0.j, 1.+0.j],\n",
       "       [1.+0.j, 1.+0.j]])"
      ]
     },
     "execution_count": 31,
     "metadata": {},
     "output_type": "execute_result"
    }
   ],
   "source": [
    "x = [[1,1],[1,1]]\n",
    "np.fft.fft2(x)\n",
    "np.fft.ifft2(np.fft.fft2(x))"
   ]
  },
  {
   "cell_type": "code",
   "execution_count": 26,
   "metadata": {},
   "outputs": [
    {
     "ename": "TypeError",
     "evalue": "cannot unpack non-iterable int object",
     "output_type": "error",
     "traceback": [
      "\u001b[0;31m---------------------------------------------------------------------------\u001b[0m",
      "\u001b[0;31mTypeError\u001b[0m                                 Traceback (most recent call last)",
      "Cell \u001b[0;32mIn[26], line 3\u001b[0m\n\u001b[1;32m      1\u001b[0m fft2(u)\n\u001b[1;32m      2\u001b[0m ifft2(u)\n\u001b[0;32m----> 3\u001b[0m Dx(u,\u001b[38;5;241m1\u001b[39m)\n",
      "Cell \u001b[0;32mIn[20], line 54\u001b[0m, in \u001b[0;36mDx\u001b[0;34m(u, alpha)\u001b[0m\n\u001b[1;32m     52\u001b[0m u_hat \u001b[38;5;241m=\u001b[39m fft2(u)\n\u001b[1;32m     53\u001b[0m \u001b[38;5;66;03m# M, N = u.shape\u001b[39;00m\n\u001b[0;32m---> 54\u001b[0m M,N \u001b[38;5;241m=\u001b[39m \u001b[38;5;241m2\u001b[39m\n\u001b[1;32m     55\u001b[0m array_x, array_y \u001b[38;5;241m=\u001b[39m np\u001b[38;5;241m.\u001b[39mmgrid[\u001b[38;5;241m0\u001b[39m:M,\u001b[38;5;241m0\u001b[39m:N]\n\u001b[1;32m     57\u001b[0m x \u001b[38;5;241m=\u001b[39m np\u001b[38;5;241m.\u001b[39mpower(\u001b[38;5;241m1\u001b[39m \u001b[38;5;241m-\u001b[39m np\u001b[38;5;241m.\u001b[39mexp(\u001b[38;5;241m-\u001b[39m\u001b[38;5;241m1\u001b[39mj\u001b[38;5;241m*\u001b[39m\u001b[38;5;241m2\u001b[39m\u001b[38;5;241m*\u001b[39mnp\u001b[38;5;241m.\u001b[39mpi \u001b[38;5;241m*\u001b[39m array_x\u001b[38;5;241m/\u001b[39mM), alpha)\n",
      "\u001b[0;31mTypeError\u001b[0m: cannot unpack non-iterable int object"
     ]
    }
   ],
   "source": [
    "fft2(u)\n",
    "ifft2(u)\n",
    "Dx(u,1)"
   ]
  },
  {
   "cell_type": "code",
   "execution_count": 42,
   "metadata": {},
   "outputs": [],
   "source": [
    "import numpy as np\n",
    "import cv2  # Still used for image I/O and adding noise\n",
    "import matplotlib.pyplot as plt\n",
    "import time\n",
    "\n",
    "# Fourier Transformation Utility Functions using NumPy\n",
    "def fft2(u):\n",
    "##    return np.fft.fftshift(np.fft.fft2(u))\n",
    "   # M,N = u.shape\n",
    "    M = 2\n",
    "    N = 2\n",
    "    return np.fft.fft2(u)/(M)\n",
    "\n",
    "def ifft2(u_hat):\n",
    "##    return np.fft.ifft2(np.fft.ifftshift(u_hat)).real\n",
    "    #M,N = u_hat.shape\n",
    "    M = 2\n",
    "    N = 2\n",
    "    return  M*np.fft.ifft2(u_hat)\n",
    "    #return np.ifft2(u_hat).real\n",
    "\n",
    "def Dx_central(u, alpha):\n",
    "    u_hat = fft2(u)\n",
    "    #M, N = u.shape\n",
    "    M = 2\n",
    "    N = 2\n",
    "    array_x, array_y = np.mgrid[0:M,0:N]\n",
    "\n",
    "    x = np.power(1 - np.exp(-1j*2*np.pi * array_x/M), alpha)\n",
    "    z = np.power(np.exp(1j*np.pi * array_x/M), alpha)\n",
    "    ##K = np.power(complex_term, alpha)\n",
    "    dx_hat = u_hat * x * z\n",
    "    dx = ifft2(dx_hat)\n",
    "    return dx\n",
    "\n",
    "def Dy_central(u, alpha):\n",
    "    u_hat = fft2(u)\n",
    "    #M, N = u.shape\n",
    "    M = 2\n",
    "    N = 2\n",
    "    array_x, array_y = np.mgrid[0:M,0:N]\n",
    "\n",
    "    y = np.power(1 - np.exp(-1j*2*np.pi * array_y/N), alpha)\n",
    "    z = np.power(np.exp(1j*np.pi * array_y/M), alpha)\n",
    "    ##K = np.power(complex_term, alpha)\n",
    "    dy_hat = u_hat * y * z\n",
    "    dy = ifft2(dy_hat)\n",
    "    return dy\n",
    "\n",
    "def C(u, alpha, beta):\n",
    "    D = (np.square(Dx_central(u, alpha)) + np.square(Dy_central(u, alpha)))\n",
    "    c = 1 / (1 + D)\n",
    "    return c\n",
    "\n",
    "def make_K(M, N, alpha):\n",
    "\n",
    "    diagonal_matrix = np.diag(np.arange(M))\n",
    "    Kx = np.power(1 - np.exp(-1j*2*np.pi * diagonal_matrix/M), alpha)*np.power(np.exp(1j*np.pi * diagonal_matrix/M), alpha)\n",
    "    Ky = np.power(1 - np.exp(-1j*2*np.pi * diagonal_matrix/M), alpha)*np.power(np.exp(1j*np.pi * diagonal_matrix/M), alpha)\n",
    "    return Kx, Ky"
   ]
  },
  {
   "cell_type": "code",
   "execution_count": 43,
   "metadata": {},
   "outputs": [
    {
     "name": "stdout",
     "output_type": "stream",
     "text": [
      "[[2.+0.j 0.+0.j]\n",
      " [0.+0.j 0.+0.j]]\n",
      "[[1.+0.j 1.+0.j]\n",
      " [1.+0.j 1.+0.j]]\n",
      "[[0.+0.j 0.+0.j]\n",
      " [0.+0.j 0.+0.j]]\n",
      "[[0.+0.j 0.+0.j]\n",
      " [0.+0.j 0.+0.j]]\n",
      "[[1.+0.j 1.+0.j]\n",
      " [1.+0.j 1.+0.j]]\n",
      "(array([[ 0.+0.j,  0.+0.j],\n",
      "       [ 0.+0.j, -4.+0.j]]), array([[ 0.+0.j,  0.+0.j],\n",
      "       [ 0.+0.j, -4.+0.j]]))\n"
     ]
    }
   ],
   "source": [
    "x = [[1,1],[1,1]]\n",
    "print(fft2(x))\n",
    "print(fft2(fft2(x)))\n",
    "print(Dx_central(x,2))\n",
    "print(Dy_central(x,2))\n",
    "print(C(x,2,1))\n",
    "print(make_K(2,2,2))"
   ]
  },
  {
   "cell_type": "code",
   "execution_count": 48,
   "metadata": {},
   "outputs": [
    {
     "name": "stdout",
     "output_type": "stream",
     "text": [
      "[[ 1.00000000e+00+0.j          1.00000000e+00+0.j\n",
      "   1.00000000e+00+0.j          1.00000000e+00+0.j\n",
      "   1.00000000e+00+0.j          1.00000000e+00+0.j\n",
      "   1.00000000e+00+0.j          1.00000000e+00+0.j\n",
      "   1.00000000e+00+0.j          1.00000000e+00+0.j        ]\n",
      " [ 9.51056516e-01+0.30901699j  9.51056516e-01+0.30901699j\n",
      "   9.51056516e-01+0.30901699j  9.51056516e-01+0.30901699j\n",
      "   9.51056516e-01+0.30901699j  9.51056516e-01+0.30901699j\n",
      "   9.51056516e-01+0.30901699j  9.51056516e-01+0.30901699j\n",
      "   9.51056516e-01+0.30901699j  9.51056516e-01+0.30901699j]\n",
      " [ 8.09016994e-01+0.58778525j  8.09016994e-01+0.58778525j\n",
      "   8.09016994e-01+0.58778525j  8.09016994e-01+0.58778525j\n",
      "   8.09016994e-01+0.58778525j  8.09016994e-01+0.58778525j\n",
      "   8.09016994e-01+0.58778525j  8.09016994e-01+0.58778525j\n",
      "   8.09016994e-01+0.58778525j  8.09016994e-01+0.58778525j]\n",
      " [ 5.87785252e-01+0.80901699j  5.87785252e-01+0.80901699j\n",
      "   5.87785252e-01+0.80901699j  5.87785252e-01+0.80901699j\n",
      "   5.87785252e-01+0.80901699j  5.87785252e-01+0.80901699j\n",
      "   5.87785252e-01+0.80901699j  5.87785252e-01+0.80901699j\n",
      "   5.87785252e-01+0.80901699j  5.87785252e-01+0.80901699j]\n",
      " [ 3.09016994e-01+0.95105652j  3.09016994e-01+0.95105652j\n",
      "   3.09016994e-01+0.95105652j  3.09016994e-01+0.95105652j\n",
      "   3.09016994e-01+0.95105652j  3.09016994e-01+0.95105652j\n",
      "   3.09016994e-01+0.95105652j  3.09016994e-01+0.95105652j\n",
      "   3.09016994e-01+0.95105652j  3.09016994e-01+0.95105652j]\n",
      " [ 6.12323400e-17+1.j          6.12323400e-17+1.j\n",
      "   6.12323400e-17+1.j          6.12323400e-17+1.j\n",
      "   6.12323400e-17+1.j          6.12323400e-17+1.j\n",
      "   6.12323400e-17+1.j          6.12323400e-17+1.j\n",
      "   6.12323400e-17+1.j          6.12323400e-17+1.j        ]\n",
      " [-3.09016994e-01+0.95105652j -3.09016994e-01+0.95105652j\n",
      "  -3.09016994e-01+0.95105652j -3.09016994e-01+0.95105652j\n",
      "  -3.09016994e-01+0.95105652j -3.09016994e-01+0.95105652j\n",
      "  -3.09016994e-01+0.95105652j -3.09016994e-01+0.95105652j\n",
      "  -3.09016994e-01+0.95105652j -3.09016994e-01+0.95105652j]\n",
      " [-5.87785252e-01+0.80901699j -5.87785252e-01+0.80901699j\n",
      "  -5.87785252e-01+0.80901699j -5.87785252e-01+0.80901699j\n",
      "  -5.87785252e-01+0.80901699j -5.87785252e-01+0.80901699j\n",
      "  -5.87785252e-01+0.80901699j -5.87785252e-01+0.80901699j\n",
      "  -5.87785252e-01+0.80901699j -5.87785252e-01+0.80901699j]\n",
      " [-8.09016994e-01+0.58778525j -8.09016994e-01+0.58778525j\n",
      "  -8.09016994e-01+0.58778525j -8.09016994e-01+0.58778525j\n",
      "  -8.09016994e-01+0.58778525j -8.09016994e-01+0.58778525j\n",
      "  -8.09016994e-01+0.58778525j -8.09016994e-01+0.58778525j\n",
      "  -8.09016994e-01+0.58778525j -8.09016994e-01+0.58778525j]\n",
      " [-9.51056516e-01+0.30901699j -9.51056516e-01+0.30901699j\n",
      "  -9.51056516e-01+0.30901699j -9.51056516e-01+0.30901699j\n",
      "  -9.51056516e-01+0.30901699j -9.51056516e-01+0.30901699j\n",
      "  -9.51056516e-01+0.30901699j -9.51056516e-01+0.30901699j\n",
      "  -9.51056516e-01+0.30901699j -9.51056516e-01+0.30901699j]]\n"
     ]
    },
    {
     "data": {
      "text/plain": [
       "array([[ 2.00000000e-01+1.26275030e+00j,  0.00000000e+00+0.00000000e+00j,\n",
       "        -8.88178420e-18+1.55431223e-17j,  0.00000000e+00+0.00000000e+00j,\n",
       "         3.08148791e-34+1.33226763e-17j,  0.00000000e+00+0.00000000e+00j,\n",
       "         3.08148791e-34+1.33226763e-17j,  0.00000000e+00+0.00000000e+00j,\n",
       "        -8.88178420e-18+1.55431223e-17j,  0.00000000e+00+0.00000000e+00j],\n",
       "       [ 2.00000000e-01+3.92522101e-01j,  0.00000000e+00+0.00000000e+00j,\n",
       "         4.38830251e-18+4.32311530e-20j,  0.00000000e+00+0.00000000e+00j,\n",
       "         8.44257447e-18+3.77103311e-18j,  0.00000000e+00+0.00000000e+00j,\n",
       "         8.44257447e-18+3.77103311e-18j,  0.00000000e+00+0.00000000e+00j,\n",
       "         4.38830251e-18+4.32311530e-20j,  0.00000000e+00+0.00000000e+00j],\n",
       "       [ 2.00000000e-01+2.00000000e-01j,  0.00000000e+00+0.00000000e+00j,\n",
       "        -8.95460846e-18-2.01524432e-17j,  0.00000000e+00+0.00000000e+00j,\n",
       "        -9.62446745e-18-1.07156101e-17j,  0.00000000e+00+0.00000000e+00j,\n",
       "        -9.62446745e-18-1.07156101e-17j,  0.00000000e+00+0.00000000e+00j,\n",
       "        -8.95460846e-18-2.01524432e-17j,  0.00000000e+00+0.00000000e+00j],\n",
       "       [ 2.00000000e-01+1.01905090e-01j,  0.00000000e+00+0.00000000e+00j,\n",
       "         2.67986391e-17-2.60419679e-17j,  0.00000000e+00+0.00000000e+00j,\n",
       "         8.25215632e-18-1.23815954e-17j,  0.00000000e+00+0.00000000e+00j,\n",
       "         8.25215632e-18-1.23815954e-17j,  0.00000000e+00+0.00000000e+00j,\n",
       "         2.67986391e-17-2.60419679e-17j,  0.00000000e+00+0.00000000e+00j],\n",
       "       [ 2.00000000e-01+3.16768881e-02j,  0.00000000e+00+0.00000000e+00j,\n",
       "        -2.21964810e-17-9.73385722e-18j,  0.00000000e+00+0.00000000e+00j,\n",
       "        -4.84981730e-18-8.61634614e-18j,  0.00000000e+00+0.00000000e+00j,\n",
       "        -4.84981730e-18-8.61634614e-18j,  0.00000000e+00+0.00000000e+00j,\n",
       "        -2.21964810e-17-9.73385722e-18j,  0.00000000e+00+0.00000000e+00j],\n",
       "       [ 2.00000000e-01-3.16768881e-02j,  0.00000000e+00+0.00000000e+00j,\n",
       "        -1.77635684e-17-6.66133815e-18j,  0.00000000e+00+0.00000000e+00j,\n",
       "        -4.44089210e-18-8.88178420e-18j,  0.00000000e+00+0.00000000e+00j,\n",
       "        -4.44089210e-18-8.88178420e-18j,  0.00000000e+00+0.00000000e+00j,\n",
       "        -1.77635684e-17-6.66133815e-18j,  0.00000000e+00+0.00000000e+00j],\n",
       "       [ 2.00000000e-01-1.01905090e-01j,  0.00000000e+00+0.00000000e+00j,\n",
       "         2.66373731e-17+1.43749668e-17j,  0.00000000e+00+0.00000000e+00j,\n",
       "         9.81488560e-18+1.18851446e-17j,  0.00000000e+00+0.00000000e+00j,\n",
       "         9.81488560e-18+1.18851446e-17j,  0.00000000e+00+0.00000000e+00j,\n",
       "         2.66373731e-17+1.43749668e-17j,  0.00000000e+00+0.00000000e+00j],\n",
       "       [ 2.00000000e-01-2.00000000e-01j,  0.00000000e+00+0.00000000e+00j,\n",
       "        -7.98671827e-18+3.18551711e-17j,  0.00000000e+00+0.00000000e+00j,\n",
       "        -6.03171027e-18+2.17875558e-17j,  0.00000000e+00+0.00000000e+00j,\n",
       "        -6.03171027e-18+2.17875558e-17j,  0.00000000e+00+0.00000000e+00j,\n",
       "        -7.98671827e-18+3.18551711e-17j,  0.00000000e+00+0.00000000e+00j],\n",
       "       [ 2.00000000e-01-3.92522101e-01j,  0.00000000e+00+0.00000000e+00j,\n",
       "         1.33955006e-17-3.17887465e-20j,  0.00000000e+00+0.00000000e+00j,\n",
       "         4.65939914e-18-5.87586465e-18j,  0.00000000e+00+0.00000000e+00j,\n",
       "         4.65939914e-18-5.87586465e-18j,  0.00000000e+00+0.00000000e+00j,\n",
       "         1.33955006e-17-3.17887465e-20j,  0.00000000e+00+0.00000000e+00j],\n",
       "       [ 2.00000000e-01-1.26275030e+00j,  0.00000000e+00+0.00000000e+00j,\n",
       "        -5.43665493e-18+8.04903768e-19j,  0.00000000e+00+0.00000000e+00j,\n",
       "        -6.22212842e-18-4.29520932e-18j,  0.00000000e+00+0.00000000e+00j,\n",
       "        -6.22212842e-18-4.29520932e-18j,  0.00000000e+00+0.00000000e+00j,\n",
       "        -5.43665493e-18+8.04903768e-19j,  0.00000000e+00+0.00000000e+00j]])"
      ]
     },
     "execution_count": 48,
     "metadata": {},
     "output_type": "execute_result"
    }
   ],
   "source": [
    "array_x, array_y = np.mgrid[0:10,0:10]\n",
    "z = np.power(np.exp(1j*np.pi * array_x/10), 1)\n",
    "print(z)\n",
    "ifft2(z)"
   ]
  },
  {
   "cell_type": "code",
   "execution_count": 55,
   "metadata": {},
   "outputs": [
    {
     "name": "stdout",
     "output_type": "stream",
     "text": [
      "[-110. -109. -108. -107. -106. -105. -104. -103. -102. -101. -100.  -99.\n",
      "  -98.  -97.  -96.  -95.  -94.  -93.  -92.  -91.  -90.  -89.  -88.  -87.\n",
      "  -86.  -85.  -84.  -83.  -82.  -81.  -80.  -79.  -78.  -77.  -76.  -75.\n",
      "  -74.  -73.  -72.  -71.  -70.  -69.  -68.  -67.  -66.  -65.  -64.  -63.\n",
      "  -62.  -61.  -60.  -59.  -58.  -57.  -56.  -55.  -54.  -53.  -52.  -51.\n",
      "  -50.  -49.  -48.  -47.  -46.  -45.  -44.  -43.  -42.  -41.  -40.  -39.\n",
      "  -38.  -37.  -36.  -35.  -34.  -33.  -32.  -31.  -30.  -29.  -28.  -27.\n",
      "  -26.  -25.  -24.  -23.  -22.  -21.  -20.  -19.  -18.  -17.  -16.  -15.\n",
      "  -14.  -13.  -12.  -11.  -10.   -9.   -8.   -7.   -6.   -5.   -4.   -3.\n",
      "   -2.   -1.    0.    1.    2.    3.    4.    5.    6.    7.    8.    9.\n",
      "   10.   11.   12.   13.   14.   15.   16.   17.   18.   19.   20.   21.\n",
      "   22.   23.   24.   25.   26.   27.   28.   29.   30.   31.   32.   33.\n",
      "   34.   35.   36.   37.   38.   39.   40.   41.   42.   43.   44.   45.\n",
      "   46.   47.   48.   49.   50.   51.   52.   53.   54.   55.   56.   57.\n",
      "   58.   59.   60.   61.   62.   63.   64.   65.   66.   67.   68.   69.\n",
      "   70.   71.   72.   73.   74.   75.   76.   77.   78.   79.   80.   81.\n",
      "   82.   83.   84.   85.   86.   87.   88.   89.   90.   91.   92.   93.\n",
      "   94.   95.   96.   97.   98.   99.  100.  101.  102.  103.  104.  105.\n",
      "  106.  107.  108.  109.]\n"
     ]
    },
    {
     "data": {
      "text/plain": [
       "109.0"
      ]
     },
     "execution_count": 55,
     "metadata": {},
     "output_type": "execute_result"
    }
   ],
   "source": [
    "w1_grid = np.fft.fftshift(np.fft.fftfreq(220)*220)\n",
    "array_x, array_y = np.mgrid[0:220,0:220]\n",
    "print(w1_grid)\n",
    "z = np.ones(220*200)\n",
    "w1_grid[219]"
   ]
  },
  {
   "cell_type": "code",
   "execution_count": 78,
   "metadata": {},
   "outputs": [
    {
     "name": "stdout",
     "output_type": "stream",
     "text": [
      "[[-5 -4 -3 -2 -1  0  1  2  3  4]\n",
      " [-5 -4 -3 -2 -1  0  1  2  3  4]\n",
      " [-5 -4 -3 -2 -1  0  1  2  3  4]\n",
      " [-5 -4 -3 -2 -1  0  1  2  3  4]\n",
      " [-5 -4 -3 -2 -1  0  1  2  3  4]\n",
      " [-5 -4 -3 -2 -1  0  1  2  3  4]\n",
      " [-5 -4 -3 -2 -1  0  1  2  3  4]\n",
      " [-5 -4 -3 -2 -1  0  1  2  3  4]\n",
      " [-5 -4 -3 -2 -1  0  1  2  3  4]\n",
      " [-5 -4 -3 -2 -1  0  1  2  3  4]]\n"
     ]
    }
   ],
   "source": [
    "\n",
    "    \n",
    "size = 10\n",
    "middle_row_index = size//2\n",
    "matrix = np.zeros((size, size), dtype=int)\n",
    "# if n is odd\n",
    "for i in range(middle_row_index):\n",
    "    if (size%2) :\n",
    "        matrix[:,i] = - size + i +1 + middle_row_index\n",
    "    else :\n",
    "        matrix[:,i] = - size + i + middle_row_index\n",
    "for i in range(middle_row_index + 1, size):\n",
    "    matrix[:,i] = + i - middle_row_index   \n",
    "\n",
    "print(matrix)\n"
   ]
  },
  {
   "cell_type": "code",
   "execution_count": 88,
   "metadata": {},
   "outputs": [
    {
     "name": "stdout",
     "output_type": "stream",
     "text": [
      "[[4.+4.8985872e-16j 4.+4.8985872e-16j 4.+4.8985872e-16j 4.+4.8985872e-16j]\n",
      " [4.+4.8985872e-16j 4.+4.8985872e-16j 4.+4.8985872e-16j 4.+4.8985872e-16j]\n",
      " [4.+4.8985872e-16j 4.+4.8985872e-16j 4.+4.8985872e-16j 4.+4.8985872e-16j]\n",
      " [4.+4.8985872e-16j 4.+4.8985872e-16j 4.+4.8985872e-16j 4.+4.8985872e-16j]]\n",
      "[[-1.+1.2246468e-16j -1.+1.2246468e-16j -1.+1.2246468e-16j\n",
      "  -1.+1.2246468e-16j]\n",
      " [-1.+1.2246468e-16j -1.+1.2246468e-16j -1.+1.2246468e-16j\n",
      "  -1.+1.2246468e-16j]\n",
      " [-1.+1.2246468e-16j -1.+1.2246468e-16j -1.+1.2246468e-16j\n",
      "  -1.+1.2246468e-16j]\n",
      " [-1.+1.2246468e-16j -1.+1.2246468e-16j -1.+1.2246468e-16j\n",
      "  -1.+1.2246468e-16j]]\n"
     ]
    }
   ],
   "source": [
    "x = np.array([[1,1,1,1],[1,1,1,1],[1,1,1,1],[1,1,1,1]])\n",
    "y = np.fft.fftshift(np.fft.fft2(x))\n",
    "z = np.fft.fft2(x)\n",
    "# print(y)\n",
    "# print(z)\n",
    "a = np.power(1 - np.exp(-1j*2*np.pi * x/2), 2)\n",
    "b = np.power(np.exp(1j*np.pi * x/2), 2)\n",
    "print(a)\n",
    "print(b)\n"
   ]
  },
  {
   "cell_type": "code",
   "execution_count": 91,
   "metadata": {},
   "outputs": [
    {
     "name": "stdout",
     "output_type": "stream",
     "text": [
      "[[-110.    0.    0. ...    0.    0.    0.]\n",
      " [   0. -109.    0. ...    0.    0.    0.]\n",
      " [   0.    0. -108. ...    0.    0.    0.]\n",
      " ...\n",
      " [   0.    0.    0. ...  107.    0.    0.]\n",
      " [   0.    0.    0. ...    0.  108.    0.]\n",
      " [   0.    0.    0. ...    0.    0.  109.]]\n"
     ]
    }
   ],
   "source": [
    "diagonal_matrix = np.diag(np.arange(220))\n",
    "diagonal_matrix = diagonal_matrix - 110*np.eye(220)\n",
    "print(diagonal_matrix)"
   ]
  }
 ],
 "metadata": {
  "kernelspec": {
   "display_name": "base",
   "language": "python",
   "name": "python3"
  },
  "language_info": {
   "codemirror_mode": {
    "name": "ipython",
    "version": 3
   },
   "file_extension": ".py",
   "mimetype": "text/x-python",
   "name": "python",
   "nbconvert_exporter": "python",
   "pygments_lexer": "ipython3",
   "version": "3.11.7"
  }
 },
 "nbformat": 4,
 "nbformat_minor": 2
}
